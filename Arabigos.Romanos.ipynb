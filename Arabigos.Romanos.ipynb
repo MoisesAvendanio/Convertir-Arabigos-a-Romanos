{
 "cells": [
  {
   "cell_type": "markdown",
   "metadata": {},
   "source": [
    "# Conversión de numeros Arábigos a Romanos"
   ]
  },
  {
   "cell_type": "code",
   "execution_count": 6,
   "metadata": {},
   "outputs": [],
   "source": [
    "def ConvertirMayor (num):\n",
    "    import math\n",
    "    Unidad=[\"\", \"I\", \"II\", \"III\", \"IV\", \"V\", \"VI\", \"VII\", \"VIII\", \"IX\"]\n",
    "    Decena=[\"\", \"X\", \"XX\", \"XXX\", \"XL\", \"L\", \"LX\", \"LXX\", \"LXXX\", \"XC\"]\n",
    "    Centena=[\"\", \"C\", \"CC\", \"CCC\", \"CD\", \"D\", \"DC\", \"DCC\", \"DCCC\", \"CM\"]\n",
    "    Mil=[\"\", \"M\", \"MM\",\"MMM\"]\n",
    "    u= num % 10\n",
    "    d=int(math.floor(num/10))%10\n",
    "    c=int(math.floor(num/100))%10\n",
    "    m=int(math.floor(num/1000))\n",
    "    if(num >= 1000 and num <= 3999): \n",
    "        return Mil[m]+Centena[c]+Decena[d]+Unidad[u]"
   ]
  },
  {
   "cell_type": "code",
   "execution_count": 7,
   "metadata": {},
   "outputs": [],
   "source": [
    "def ConvertirMenor (num):\n",
    "    import math\n",
    "    Unidad=[\"\", \"I\", \"II\", \"III\", \"IV\", \"V\", \"VI\", \"VII\", \"VIII\", \"IX\"]\n",
    "    Decena=[\"\", \"X\", \"XX\", \"XXX\", \"XL\", \"L\", \"LX\", \"LXX\", \"LXXX\", \"XC\"]\n",
    "    Centena=[\"\", \"C\", \"CC\", \"CCC\", \"CD\", \"D\", \"DC\", \"DCC\", \"DCCC\", \"CM\"]\n",
    "    u= num % 10\n",
    "    d=int(math.floor(num/10))%10\n",
    "    c=int(math.floor(num/100))\n",
    "    if(num>=100): \n",
    "        return Centena[c]+Decena[d]+Unidad[u]\n",
    "    else:\n",
    "        if(num>=10):\n",
    "            return Decena[d]+Unidad[u]\n",
    "        else:\n",
    "            return Unidad[num]"
   ]
  },
  {
   "cell_type": "code",
   "execution_count": 9,
   "metadata": {},
   "outputs": [
    {
     "name": "stdout",
     "output_type": "stream",
     "text": [
      "Número Arábigo:  990      Número Romano:  CMXC\n",
      "Número Arábigo:  991      Número Romano:  CMXCI\n",
      "Número Arábigo:  992      Número Romano:  CMXCII\n",
      "Número Arábigo:  993      Número Romano:  CMXCIII\n",
      "Número Arábigo:  994      Número Romano:  CMXCIV\n",
      "Número Arábigo:  995      Número Romano:  CMXCV\n",
      "Número Arábigo:  996      Número Romano:  CMXCVI\n",
      "Número Arábigo:  997      Número Romano:  CMXCVII\n",
      "Número Arábigo:  998      Número Romano:  CMXCVIII\n",
      "Número Arábigo:  999      Número Romano:  CMXCIX\n",
      "Número Arábigo:  1000      Número Romano:  M\n",
      "Número Arábigo:  1001      Número Romano:  MI\n",
      "Número Arábigo:  1002      Número Romano:  MII\n",
      "Número Arábigo:  1003      Número Romano:  MIII\n",
      "Número Arábigo:  1004      Número Romano:  MIV\n",
      "Número Arábigo:  1005      Número Romano:  MV\n",
      "Número Arábigo:  1006      Número Romano:  MVI\n",
      "Número Arábigo:  1007      Número Romano:  MVII\n",
      "Número Arábigo:  1008      Número Romano:  MVIII\n",
      "Número Arábigo:  1009      Número Romano:  MIX\n",
      "Número Arábigo:  1010      Número Romano:  MX\n",
      "Número Arábigo:  1011      Número Romano:  MXI\n",
      "Número Arábigo:  1012      Número Romano:  MXII\n",
      "Número Arábigo:  1013      Número Romano:  MXIII\n",
      "Número Arábigo:  1014      Número Romano:  MXIV\n",
      "Número Arábigo:  1015      Número Romano:  MXV\n",
      "Número Arábigo:  1016      Número Romano:  MXVI\n",
      "Número Arábigo:  1017      Número Romano:  MXVII\n",
      "Número Arábigo:  1018      Número Romano:  MXVIII\n",
      "Número Arábigo:  1019      Número Romano:  MXIX\n",
      "Número Arábigo:  1020      Número Romano:  MXX\n",
      "Número Arábigo:  1021      Número Romano:  MXXI\n",
      "Número Arábigo:  1022      Número Romano:  MXXII\n",
      "Número Arábigo:  1023      Número Romano:  MXXIII\n",
      "Número Arábigo:  1024      Número Romano:  MXXIV\n",
      "Número Arábigo:  1025      Número Romano:  MXXV\n",
      "Número Arábigo:  1026      Número Romano:  MXXVI\n",
      "Número Arábigo:  1027      Número Romano:  MXXVII\n",
      "Número Arábigo:  1028      Número Romano:  MXXVIII\n",
      "Número Arábigo:  1029      Número Romano:  MXXIX\n"
     ]
    }
   ],
   "source": [
    "for x in range(990, 1030):\n",
    "    if(x<1000):\n",
    "        print(\"Número Arábigo: \", x, \"    \", \"Número Romano: \",ConvertirMenor(x))\n",
    "    else:\n",
    "        print(\"Número Arábigo: \", x, \"    \", \"Número Romano: \",ConvertirMayor(x))\n",
    "    "
   ]
  },
  {
   "cell_type": "code",
   "execution_count": null,
   "metadata": {},
   "outputs": [],
   "source": []
  }
 ],
 "metadata": {
  "kernelspec": {
   "display_name": "Python 3",
   "language": "python",
   "name": "python3"
  },
  "language_info": {
   "codemirror_mode": {
    "name": "ipython",
    "version": 3
   },
   "file_extension": ".py",
   "mimetype": "text/x-python",
   "name": "python",
   "nbconvert_exporter": "python",
   "pygments_lexer": "ipython3",
   "version": "3.7.3"
  }
 },
 "nbformat": 4,
 "nbformat_minor": 2
}
